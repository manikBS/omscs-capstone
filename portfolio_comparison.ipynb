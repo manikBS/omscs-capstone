{
  "nbformat": 4,
  "nbformat_minor": 0,
  "metadata": {
    "colab": {
      "provenance": [],
      "authorship_tag": "ABX9TyM1092HwrWLPNncF9r3cGvG",
      "include_colab_link": true
    },
    "kernelspec": {
      "name": "python3",
      "display_name": "Python 3"
    },
    "language_info": {
      "name": "python"
    }
  },
  "cells": [
    {
      "cell_type": "markdown",
      "metadata": {
        "id": "view-in-github",
        "colab_type": "text"
      },
      "source": [
        "<a href=\"https://colab.research.google.com/github/manikBS/omscs-capstone/blob/master/portfolio_comparison.ipynb\" target=\"_parent\"><img src=\"https://colab.research.google.com/assets/colab-badge.svg\" alt=\"Open In Colab\"/></a>"
      ]
    },
    {
      "cell_type": "code",
      "execution_count": 1,
      "metadata": {
        "colab": {
          "base_uri": "https://localhost:8080/"
        },
        "id": "jST_Rq3h2pKl",
        "outputId": "63ece10c-3dcc-4f7c-8bfd-13b16c9a9b11"
      },
      "outputs": [
        {
          "output_type": "stream",
          "name": "stdout",
          "text": [
            "Mounted at /content/drive\n"
          ]
        }
      ],
      "source": [
        "from google.colab import drive\n",
        "drive.mount('/content/drive')"
      ]
    },
    {
      "cell_type": "code",
      "source": [
        "import pandas as pd\n",
        "import numpy as np\n",
        "import matplotlib.pyplot as plt\n",
        "import os\n",
        "\n",
        "GOOGLE_DRIVE_PATH_POST_MYDRIVE = 'capstone_project'\n",
        "user = 'ydosi3'\n",
        "if user == 'ydosi3':\n",
        "  GOOGLE_DRIVE_PATH = os.path.join('/content', 'drive',\n",
        "                                   'MyDrive/Colab Notebooks', GOOGLE_DRIVE_PATH_POST_MYDRIVE)\n",
        "else:\n",
        "  GOOGLE_DRIVE_PATH = os.path.join('/content', 'drive', 'MyDrive',\n",
        "                                   GOOGLE_DRIVE_PATH_POST_MYDRIVE)\n",
        "print(os.listdir(GOOGLE_DRIVE_PATH))\n",
        "\n",
        "import sys\n",
        "sys.path.append(GOOGLE_DRIVE_PATH)\n",
        "\n",
        "os.environ['GOOGLE_DRIVE_PATH'] = GOOGLE_DRIVE_PATH\n",
        "\n",
        "os.environ['GOOGLE_DRIVE_PATH']"
      ],
      "metadata": {
        "colab": {
          "base_uri": "https://localhost:8080/",
          "height": 73
        },
        "id": "XuH91_6_3A2z",
        "outputId": "4141aaa0-c769-4b15-83af-0035aa0b0dea"
      },
      "execution_count": 2,
      "outputs": [
        {
          "output_type": "stream",
          "name": "stdout",
          "text": [
            "['data', 'utils', 'src', 'data_processing.ipynb', 'model', 'models_results', 'notebooks', '__pycache__', 'MarketSimulator.py', 'E2E_Pipeline.ipynb', 'E2E_Pipeline_manik.ipynb', 'ydosi3-deepar-pipeline.ipynb', 'ydosi3-tft-pipeline.ipynb']\n"
          ]
        },
        {
          "output_type": "execute_result",
          "data": {
            "text/plain": [
              "'/content/drive/MyDrive/Colab Notebooks/capstone_project'"
            ],
            "application/vnd.google.colaboratory.intrinsic+json": {
              "type": "string"
            }
          },
          "metadata": {},
          "execution_count": 2
        }
      ]
    },
    {
      "cell_type": "code",
      "source": [
        "deepar_trade_log_filepath = f\"{GOOGLE_DRIVE_PATH}/models_results/checkpoints/ydosi3-deepar-trade-v20-1dconv.log\"\n",
        "tft_trade_log_filepath = f\"{GOOGLE_DRIVE_PATH}/models_results/checkpoints/ydosi3-tft-trade-v8.log\"\n",
        "\n",
        "deepar_trade_log_df = pd.read_csv(deepar_trade_log_filepath, sep=',')\n",
        "tft_trade_log_df = pd.read_csv(tft_trade_log_filepath, sep=',')\n",
        "\n",
        "deepar_trade_log_df = deepar_trade_log_df[deepar_trade_log_df['signal'] != 'buy']\n",
        "tft_trade_log_df = tft_trade_log_df[tft_trade_log_df['signal'] != 'buy']\n",
        "\n",
        "# patch tst trade log\n",
        "patch_tst_trade_log_df = pd.read_csv(f\"{GOOGLE_DRIVE_PATH}/models_results/checkpoints/patchtst-trade.log\", sep=',')\n",
        "patch_tst_trade_log_df.rename(columns={'ID': 'idx', 'Action': 'signal', 'Price': 'price', 'Amount': 'portfolio'}, inplace=True)\n",
        "# patch_tst_trade_log_df.head()\n",
        "\n",
        "ed_gaussian_trade_log_df = pd.read_csv(f\"{GOOGLE_DRIVE_PATH}/models_results/checkpoints/ed-gaussian-trade.log\", sep=',')\n",
        "ed_gaussian_trade_log_df.rename(columns={'step': 'idx', 'action': 'signal', 'price': 'price', 'balance': 'portfolio'}, inplace=True)\n",
        "ed_gaussian_trade_log_df = ed_gaussian_trade_log_df[ed_gaussian_trade_log_df['signal'] != 'buy']\n",
        "\n",
        "encoder_only_trade_log_df = pd.read_csv(f\"{GOOGLE_DRIVE_PATH}/models_results/checkpoints/encoder-only-gaussian-trade.log\", sep=',')\n",
        "encoder_only_trade_log_df.rename(columns={'step': 'idx', 'action': 'signal', 'price': 'price', 'balance': 'portfolio'}, inplace=True)\n",
        "encoder_only_trade_log_df = encoder_only_trade_log_df[encoder_only_trade_log_df['signal'] != 'buy']"
      ],
      "metadata": {
        "id": "RJ0SGFw83O4l"
      },
      "execution_count": 77,
      "outputs": []
    },
    {
      "cell_type": "code",
      "source": [
        "# ed_gaussian_trade_log_df.head()"
      ],
      "metadata": {
        "id": "Y7Z4BErxKV-V"
      },
      "execution_count": 78,
      "outputs": []
    },
    {
      "cell_type": "code",
      "source": [
        "global_max = max(max(deepar_trade_log_df.idx), max(tft_trade_log_df.idx),\n",
        "                 max(patch_tst_trade_log_df.idx), max(ed_gaussian_trade_log_df.idx),\n",
        "                 max(encoder_only_trade_log_df.idx))"
      ],
      "metadata": {
        "id": "3-qU2jM13iBt"
      },
      "execution_count": 79,
      "outputs": []
    },
    {
      "cell_type": "code",
      "source": [
        "prev_tft_value = 100000.00\n",
        "final_tft_portfolio_list = []\n",
        "\n",
        "prev_deepar_value = 100000.00\n",
        "final_deepar_portfolio_list = []\n",
        "\n",
        "prev_patchtst_value = 100000.00\n",
        "final_patchtst_portfolio_list = []\n",
        "\n",
        "prev_ed_gaussian_value = 100000.00\n",
        "final_ed_gaussian_portfolio_list = []\n",
        "\n",
        "prev_encoder_only_value = 100000.00\n",
        "final_encoder_only_portfolio_list = []\n",
        "\n",
        "for i in range(0, global_max):\n",
        "  if i in deepar_trade_log_df['idx'].values:\n",
        "    prev_deepar_value = deepar_trade_log_df[deepar_trade_log_df['idx'] == i]['portfolio'].values[0]\n",
        "  final_deepar_portfolio_list.append(prev_deepar_value)\n",
        "\n",
        "  if i in tft_trade_log_df['idx'].values:\n",
        "    prev_tft_value = tft_trade_log_df[tft_trade_log_df['idx'] == i]['portfolio'].values[0]\n",
        "  final_tft_portfolio_list.append(prev_tft_value)\n",
        "\n",
        "  if i in patch_tst_trade_log_df['idx'].values:\n",
        "    prev_patchtst_value = patch_tst_trade_log_df[patch_tst_trade_log_df['idx'] == i]['portfolio'].values[0]\n",
        "  final_patchtst_portfolio_list.append(prev_patchtst_value)\n",
        "\n",
        "  if i in ed_gaussian_trade_log_df['idx'].values:\n",
        "    prev_ed_gaussian_value = ed_gaussian_trade_log_df[ed_gaussian_trade_log_df['idx'] == i]['portfolio'].values[0]\n",
        "  final_ed_gaussian_portfolio_list.append(prev_ed_gaussian_value)\n",
        "\n",
        "  if i in encoder_only_trade_log_df['idx'].values:\n",
        "    prev_encoder_only_value = encoder_only_trade_log_df[encoder_only_trade_log_df['idx'] == i]['portfolio'].values[0]\n",
        "  final_encoder_only_portfolio_list.append(prev_encoder_only_value)\n",
        "\n",
        "# deepar_trade_log_df['portfolio'] = final_deepar_portfolio_list\n"
      ],
      "metadata": {
        "id": "7m_PhYuC8BMJ"
      },
      "execution_count": 92,
      "outputs": []
    },
    {
      "cell_type": "code",
      "source": [
        "patch_tst_trade_log_df.shape"
      ],
      "metadata": {
        "colab": {
          "base_uri": "https://localhost:8080/"
        },
        "id": "PpUbPiW4NeUD",
        "outputId": "34dd96d5-7a26-44b2-a3c8-e1d21ce686bd"
      },
      "execution_count": 101,
      "outputs": [
        {
          "output_type": "execute_result",
          "data": {
            "text/plain": [
              "(159, 4)"
            ]
          },
          "metadata": {},
          "execution_count": 101
        }
      ]
    },
    {
      "cell_type": "code",
      "source": [
        "len(final_patchtst_portfolio_list)"
      ],
      "metadata": {
        "colab": {
          "base_uri": "https://localhost:8080/"
        },
        "id": "p71hhD9HEPP9",
        "outputId": "a540d7d7-e70a-4b54-c2aa-dcba4bc1f6c7"
      },
      "execution_count": 100,
      "outputs": [
        {
          "output_type": "execute_result",
          "data": {
            "text/plain": [
              "383"
            ]
          },
          "metadata": {},
          "execution_count": 100
        }
      ]
    },
    {
      "cell_type": "code",
      "source": [
        "plt.figure(figsize=(10, 6))\n",
        "plt.plot(final_deepar_portfolio_list, label='DeepAR')\n",
        "plt.plot(final_tft_portfolio_list, label='TFT')\n",
        "plt.plot(final_patchtst_portfolio_list, label='PatchTST')\n",
        "plt.plot(final_ed_gaussian_portfolio_list, label='ED-Gaussian')\n",
        "plt.plot(final_encoder_only_portfolio_list, label='Encoder-Only-Gaussian')\n",
        "plt.xlabel('Index')\n",
        "plt.ylabel('Portfolio Value')\n",
        "plt.title('Portfolio Comparison')\n",
        "plt.legend()\n",
        "plt.grid(True)\n",
        "plt.show()\n"
      ],
      "metadata": {
        "colab": {
          "base_uri": "https://localhost:8080/",
          "height": 564
        },
        "id": "4e2476Re3kVo",
        "outputId": "bfafe3ff-e25c-4f7c-8d9c-bd55a5e78186"
      },
      "execution_count": 102,
      "outputs": [
        {
          "output_type": "display_data",
          "data": {
            "text/plain": [
              "<Figure size 1000x600 with 1 Axes>"
            ],
            "image/png": "[encoded data removed]"
          },
          "metadata": {}
        }
      ]
    },
    {
      "cell_type": "code",
      "source": [
        "deepar_trade_log_df.head()"
      ],
      "metadata": {
        "colab": {
          "base_uri": "https://localhost:8080/",
          "height": 206
        },
        "id": "8wXIEBFF5cUY",
        "outputId": "e6932c18-d419-41de-a334-efc355f94c8d"
      },
      "execution_count": 15,
      "outputs": [
        {
          "output_type": "execute_result",
          "data": {
            "text/plain": [
              "   idx signal         price      portfolio\n",
              "1    0   sell  17498.091797  100000.000000\n",
              "3    2   sell  17526.000000  100004.550781\n",
              "5    3   sell  17535.900391  100004.550781\n",
              "7    6   sell  17535.513672  100004.550781\n",
              "9    8   sell  17524.914062  100004.550781"
            ],
            "text/html": [
              "\n",
              "  <div id=\"df-974d5acb-c7ef-4284-a748-d70de0efe82c\" class=\"colab-df-container\">\n",
              "    <div>\n",
              "<style scoped>\n",
              "    .dataframe tbody tr th:only-of-type {\n",
              "        vertical-align: middle;\n",
              "    }\n",
              "\n",
              "    .dataframe tbody tr th {\n",
              "        vertical-align: top;\n",
              "    }\n",
              "\n",
              "    .dataframe thead th {\n",
              "        text-align: right;\n",
              "    }\n",
              "</style>\n",
              "<table border=\"1\" class=\"dataframe\">\n",
              "  <thead>\n",
              "    <tr style=\"text-align: right;\">\n",
              "      <th></th>\n",
              "      <th>idx</th>\n",
              "      <th>signal</th>\n",
              "      <th>price</th>\n",
              "      <th>portfolio</th>\n",
              "    </tr>\n",
              "  </thead>\n",
              "  <tbody>\n",
              "    <tr>\n",
              "      <th>1</th>\n",
              "      <td>0</td>\n",
              "      <td>sell</td>\n",
              "      <td>17498.091797</td>\n",
              "      <td>100000.000000</td>\n",
              "    </tr>\n",
              "    <tr>\n",
              "      <th>3</th>\n",
              "      <td>2</td>\n",
              "      <td>sell</td>\n",
              "      <td>17526.000000</td>\n",
              "      <td>100004.550781</td>\n",
              "    </tr>\n",
              "    <tr>\n",
              "      <th>5</th>\n",
              "      <td>3</td>\n",
              "      <td>sell</td>\n",
              "      <td>17535.900391</td>\n",
              "      <td>100004.550781</td>\n",
              "    </tr>\n",
              "    <tr>\n",
              "      <th>7</th>\n",
              "      <td>6</td>\n",
              "      <td>sell</td>\n",
              "      <td>17535.513672</td>\n",
              "      <td>100004.550781</td>\n",
              "    </tr>\n",
              "    <tr>\n",
              "      <th>9</th>\n",
              "      <td>8</td>\n",
              "      <td>sell</td>\n",
              "      <td>17524.914062</td>\n",
              "      <td>100004.550781</td>\n",
              "    </tr>\n",
              "  </tbody>\n",
              "</table>\n",
              "</div>\n",
              "    <div class=\"colab-df-buttons\">\n",
              "\n",
              "  <div class=\"colab-df-container\">\n",
              "    <button class=\"colab-df-convert\" onclick=\"convertToInteractive('df-974d5acb-c7ef-4284-a748-d70de0efe82c')\"\n",
              "            title=\"Convert this dataframe to an interactive table.\"\n",
              "            style=\"display:none;\">\n",
              "\n",
              "  <svg xmlns=\"http://www.w3.org/2000/svg\" height=\"24px\" viewBox=\"0 -960 960 960\">\n",
              "    <path d=\"M120-120v-720h720v720H120Zm60-500h600v-160H180v160Zm220 220h160v-160H400v160Zm0 220h160v-160H400v160ZM180-400h160v-160H180v160Zm440 0h160v-160H620v160ZM180-180h160v-160H180v160Zm440 0h160v-160H620v160Z\"/>\n",
              "  </svg>\n",
              "    </button>\n",
              "\n",
              "  <style>\n",
              "    .colab-df-container {\n",
              "      display:flex;\n",
              "      gap: 12px;\n",
              "    }\n",
              "\n",
              "    .colab-df-convert {\n",
              "      background-color: #E8F0FE;\n",
              "      border: none;\n",
              "      border-radius: 50%;\n",
              "      cursor: pointer;\n",
              "      display: none;\n",
              "      fill: #1967D2;\n",
              "      height: 32px;\n",
              "      padding: 0 0 0 0;\n",
              "      width: 32px;\n",
              "    }\n",
              "\n",
              "    .colab-df-convert:hover {\n",
              "      background-color: #E2EBFA;\n",
              "      box-shadow: 0px 1px 2px rgba(60, 64, 67, 0.3), 0px 1px 3px 1px rgba(60, 64, 67, 0.15);\n",
              "      fill: #174EA6;\n",
              "    }\n",
              "\n",
              "    .colab-df-buttons div {\n",
              "      margin-bottom: 4px;\n",
              "    }\n",
              "\n",
              "    [theme=dark] .colab-df-convert {\n",
              "      background-color: #3B4455;\n",
              "      fill: #D2E3FC;\n",
              "    }\n",
              "\n",
              "    [theme=dark] .colab-df-convert:hover {\n",
              "      background-color: #434B5C;\n",
              "      box-shadow: 0px 1px 3px 1px rgba(0, 0, 0, 0.15);\n",
              "      filter: drop-shadow(0px 1px 2px rgba(0, 0, 0, 0.3));\n",
              "      fill: #FFFFFF;\n",
              "    }\n",
              "  </style>\n",
              "\n",
              "    <script>\n",
              "      const buttonEl =\n",
              "        document.querySelector('#df-974d5acb-c7ef-4284-a748-d70de0efe82c button.colab-df-convert');\n",
              "      buttonEl.style.display =\n",
              "        google.colab.kernel.accessAllowed ? 'block' : 'none';\n",
              "\n",
              "      async function convertToInteractive(key) {\n",
              "        const element = document.querySelector('#df-974d5acb-c7ef-4284-a748-d70de0efe82c');\n",
              "        const dataTable =\n",
              "          await google.colab.kernel.invokeFunction('convertToInteractive',\n",
              "                                                    [key], {});\n",
              "        if (!dataTable) return;\n",
              "\n",
              "        const docLinkHtml = 'Like what you see? Visit the ' +\n",
              "          '<a target=\"_blank\" href=https://colab.research.google.com/notebooks/data_table.ipynb>data table notebook</a>'\n",
              "          + ' to learn more about interactive tables.';\n",
              "        element.innerHTML = '';\n",
              "        dataTable['output_type'] = 'display_data';\n",
              "        await google.colab.output.renderOutput(dataTable, element);\n",
              "        const docLink = document.createElement('div');\n",
              "        docLink.innerHTML = docLinkHtml;\n",
              "        element.appendChild(docLink);\n",
              "      }\n",
              "    </script>\n",
              "  </div>\n",
              "\n",
              "\n",
              "    <div id=\"df-08ddc7e0-72e2-4e7d-95c2-c7e1772ba025\">\n",
              "      <button class=\"colab-df-quickchart\" onclick=\"quickchart('df-08ddc7e0-72e2-4e7d-95c2-c7e1772ba025')\"\n",
              "                title=\"Suggest charts\"\n",
              "                style=\"display:none;\">\n",
              "\n",
              "<svg xmlns=\"http://www.w3.org/2000/svg\" height=\"24px\"viewBox=\"0 0 24 24\"\n",
              "     width=\"24px\">\n",
              "    <g>\n",
              "        <path d=\"M19 3H5c-1.1 0-2 .9-2 2v14c0 1.1.9 2 2 2h14c1.1 0 2-.9 2-2V5c0-1.1-.9-2-2-2zM9 17H7v-7h2v7zm4 0h-2V7h2v10zm4 0h-2v-4h2v4z\"/>\n",
              "    </g>\n",
              "</svg>\n",
              "      </button>\n",
              "\n",
              "<style>\n",
              "  .colab-df-quickchart {\n",
              "      --bg-color: #E8F0FE;\n",
              "      --fill-color: #1967D2;\n",
              "      --hover-bg-color: #E2EBFA;\n",
              "      --hover-fill-color: #174EA6;\n",
              "      --disabled-fill-color: #AAA;\n",
              "      --disabled-bg-color: #DDD;\n",
              "  }\n",
              "\n",
              "  [theme=dark] .colab-df-quickchart {\n",
              "      --bg-color: #3B4455;\n",
              "      --fill-color: #D2E3FC;\n",
              "      --hover-bg-color: #434B5C;\n",
              "      --hover-fill-color: #FFFFFF;\n",
              "      --disabled-bg-color: #3B4455;\n",
              "      --disabled-fill-color: #666;\n",
              "  }\n",
              "\n",
              "  .colab-df-quickchart {\n",
              "    background-color: var(--bg-color);\n",
              "    border: none;\n",
              "    border-radius: 50%;\n",
              "    cursor: pointer;\n",
              "    display: none;\n",
              "    fill: var(--fill-color);\n",
              "    height: 32px;\n",
              "    padding: 0;\n",
              "    width: 32px;\n",
              "  }\n",
              "\n",
              "  .colab-df-quickchart:hover {\n",
              "    background-color: var(--hover-bg-color);\n",
              "    box-shadow: 0 1px 2px rgba(60, 64, 67, 0.3), 0 1px 3px 1px rgba(60, 64, 67, 0.15);\n",
              "    fill: var(--button-hover-fill-color);\n",
              "  }\n",
              "\n",
              "  .colab-df-quickchart-complete:disabled,\n",
              "  .colab-df-quickchart-complete:disabled:hover {\n",
              "    background-color: var(--disabled-bg-color);\n",
              "    fill: var(--disabled-fill-color);\n",
              "    box-shadow: none;\n",
              "  }\n",
              "\n",
              "  .colab-df-spinner {\n",
              "    border: 2px solid var(--fill-color);\n",
              "    border-color: transparent;\n",
              "    border-bottom-color: var(--fill-color);\n",
              "    animation:\n",
              "      spin 1s steps(1) infinite;\n",
              "  }\n",
              "\n",
              "  @keyframes spin {\n",
              "    0% {\n",
              "      border-color: transparent;\n",
              "      border-bottom-color: var(--fill-color);\n",
              "      border-left-color: var(--fill-color);\n",
              "    }\n",
              "    20% {\n",
              "      border-color: transparent;\n",
              "      border-left-color: var(--fill-color);\n",
              "      border-top-color: var(--fill-color);\n",
              "    }\n",
              "    30% {\n",
              "      border-color: transparent;\n",
              "      border-left-color: var(--fill-color);\n",
              "      border-top-color: var(--fill-color);\n",
              "      border-right-color: var(--fill-color);\n",
              "    }\n",
              "    40% {\n",
              "      border-color: transparent;\n",
              "      border-right-color: var(--fill-color);\n",
              "      border-top-color: var(--fill-color);\n",
              "    }\n",
              "    60% {\n",
              "      border-color: transparent;\n",
              "      border-right-color: var(--fill-color);\n",
              "    }\n",
              "    80% {\n",
              "      border-color: transparent;\n",
              "      border-right-color: var(--fill-color);\n",
              "      border-bottom-color: var(--fill-color);\n",
              "    }\n",
              "    90% {\n",
              "      border-color: transparent;\n",
              "      border-bottom-color: var(--fill-color);\n",
              "    }\n",
              "  }\n",
              "</style>\n",
              "\n",
              "      <script>\n",
              "        async function quickchart(key) {\n",
              "          const quickchartButtonEl =\n",
              "            document.querySelector('#' + key + ' button');\n",
              "          quickchartButtonEl.disabled = true;  // To prevent multiple clicks.\n",
              "          quickchartButtonEl.classList.add('colab-df-spinner');\n",
              "          try {\n",
              "            const charts = await google.colab.kernel.invokeFunction(\n",
              "                'suggestCharts', [key], {});\n",
              "          } catch (error) {\n",
              "            console.error('Error during call to suggestCharts:', error);\n",
              "          }\n",
              "          quickchartButtonEl.classList.remove('colab-df-spinner');\n",
              "          quickchartButtonEl.classList.add('colab-df-quickchart-complete');\n",
              "        }\n",
              "        (() => {\n",
              "          let quickchartButtonEl =\n",
              "            document.querySelector('#df-08ddc7e0-72e2-4e7d-95c2-c7e1772ba025 button');\n",
              "          quickchartButtonEl.style.display =\n",
              "            google.colab.kernel.accessAllowed ? 'block' : 'none';\n",
              "        })();\n",
              "      </script>\n",
              "    </div>\n",
              "\n",
              "    </div>\n",
              "  </div>\n"
            ],
            "application/vnd.google.colaboratory.intrinsic+json": {
              "type": "dataframe",
              "variable_name": "deepar_trade_log_df",
              "summary": "{\n  \"name\": \"deepar_trade_log_df\",\n  \"rows\": 132,\n  \"fields\": [\n    {\n      \"column\": \"idx\",\n      \"properties\": {\n        \"dtype\": \"number\",\n        \"std\": 58,\n        \"min\": 0,\n        \"max\": 215,\n        \"num_unique_values\": 132,\n        \"samples\": [\n          79,\n          113,\n          38\n        ],\n        \"semantic_type\": \"\",\n        \"description\": \"\"\n      }\n    },\n    {\n      \"column\": \"signal\",\n      \"properties\": {\n        \"dtype\": \"category\",\n        \"num_unique_values\": 1,\n        \"samples\": [\n          \"sell\"\n        ],\n        \"semantic_type\": \"\",\n        \"description\": \"\"\n      }\n    },\n    {\n      \"column\": \"price\",\n      \"properties\": {\n        \"dtype\": \"number\",\n        \"std\": 187.33327817517514,\n        \"min\": 17497.525390625,\n        \"max\": 18102.79296875,\n        \"num_unique_values\": 132,\n        \"samples\": [\n          18001.802734375\n        ],\n        \"semantic_type\": \"\",\n        \"description\": \"\"\n      }\n    },\n    {\n      \"column\": \"portfolio\",\n      \"properties\": {\n        \"dtype\": \"number\",\n        \"std\": 204.67903965641378,\n        \"min\": 100000.0,\n        \"max\": 100529.49609375,\n        \"num_unique_values\": 62,\n        \"samples\": [\n          100456.099609375\n        ],\n        \"semantic_type\": \"\",\n        \"description\": \"\"\n      }\n    }\n  ]\n}"
            }
          },
          "metadata": {},
          "execution_count": 15
        }
      ]
    },
    {
      "cell_type": "code",
      "source": [],
      "metadata": {
        "id": "2y3ODeVg5eQi"
      },
      "execution_count": null,
      "outputs": []
    }
  ]
}