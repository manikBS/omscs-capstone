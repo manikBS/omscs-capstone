{
 "cells": [
  {
   "cell_type": "code",
   "execution_count": 3,
   "id": "initial_id",
   "metadata": {},
   "outputs": [],
   "source": [
    "import pandas as pd\n",
    "import numpy as np\n",
    "from scipy.signal import find_peaks\n",
    "import matplotlib.pyplot as plt\n",
    "\n",
    "import torch\n",
    "import torch.nn as nn\n",
    "import torch.nn.functional as F\n",
    "from torch.utils.data import DataLoader, Dataset\n",
    "\n",
    "from sklearn.model_selection import train_test_split\n",
    "from sklearn.metrics import accuracy_score\n",
    "from sklearn.preprocessing import LabelEncoder\n",
    "import pandas_ta as ta\n",
    "\n",
    "from utils.labels import detect_head_and_shoulders, detect_double_bottom, label_patterns, create_windows\n",
    "from utils.classify_window import classify_window\n",
    "from utils.forecaster import forecaster\n",
    "from model.CNN.CNN1D import CNN1D_MultiChannel\n",
    "from model.CNN.CNN2D import CNN2D_MultiChannel\n",
    "from trainers.CNN1DTrainer import CNN1DTrainer, TimeSeries1DDataset\n",
    "from trainers.CNN2DTrainer import CNN2DTrainer, TimeSeries2DDataset\n"
   ]
  },
  {
   "cell_type": "code",
   "execution_count": 4,
   "id": "a78c6a84-b645-476e-97e9-d501034a70d1",
   "metadata": {},
   "outputs": [
    {
     "data": {
      "text/plain": [
       "(932946, 6)"
      ]
     },
     "execution_count": 4,
     "metadata": {},
     "output_type": "execute_result"
    }
   ],
   "source": [
    "filepath = \"data\"\n",
    "filename = \"NIFTY 50_minute_data.csv\"\n",
    "# filename = \"NIFTY 50_daily_data.csv\"\n",
    "\n",
    "file = f\"{filepath}/{filename}\"\n",
    "\n",
    "df_nifty50_full = pd.read_csv(file)\n",
    "df_nifty50_full.shape"
   ]
  },
  {
   "cell_type": "code",
   "execution_count": 5,
   "id": "ee99e073-1f27-4fe0-bde2-76d9e629f5a7",
   "metadata": {},
   "outputs": [],
   "source": [
    "df_nifty50 = df_nifty50_full[-100000:]"
   ]
  },
  {
   "cell_type": "code",
   "execution_count": 7,
   "id": "753cc2f9-f44b-4215-80e3-12e0c1d98e77",
   "metadata": {},
   "outputs": [
    {
     "name": "stderr",
     "output_type": "stream",
     "text": [
      "/tmp/ipykernel_7794/2254231990.py:5: SettingWithCopyWarning: \n",
      "A value is trying to be set on a copy of a slice from a DataFrame\n",
      "\n",
      "See the caveats in the documentation: https://pandas.pydata.org/pandas-docs/stable/user_guide/indexing.html#returning-a-view-versus-a-copy\n",
      "  df_nifty50.dropna(inplace=True)\n"
     ]
    }
   ],
   "source": [
    "df_nifty50.loc[:, \"ema\"] = ta.ema(df_nifty50['close'], length=15)\n",
    "df_nifty50.loc[:, \"rsi\"] = ta.rsi(df_nifty50['close'], length=15)\n",
    "df_nifty50.loc[:, \"zscore\"] = ta.zscore(df_nifty50['close'], length=15)\n",
    "\n",
    "df_nifty50.dropna(inplace=True)\n",
    "df_nifty50.reset_index(drop=True, inplace=True)\n",
    "\n",
    "# df['EMA'] = ta.ema(df['Close'], length=5)\n",
    "# df['MACD'] = ta.macd(df['Close'])['MACD_12_26_9']\n",
    "# df['RSI'] = ta.rsi(df['Close'], length=14)"
   ]
  },
  {
   "cell_type": "code",
   "execution_count": 8,
   "id": "85ea7567-7dab-46de-aaa7-9869f7beebdf",
   "metadata": {},
   "outputs": [
    {
     "data": {
      "text/html": [
       "<div>\n",
       "<style scoped>\n",
       "    .dataframe tbody tr th:only-of-type {\n",
       "        vertical-align: middle;\n",
       "    }\n",
       "\n",
       "    .dataframe tbody tr th {\n",
       "        vertical-align: top;\n",
       "    }\n",
       "\n",
       "    .dataframe thead th {\n",
       "        text-align: right;\n",
       "    }\n",
       "</style>\n",
       "<table border=\"1\" class=\"dataframe\">\n",
       "  <thead>\n",
       "    <tr style=\"text-align: right;\">\n",
       "      <th></th>\n",
       "      <th>date</th>\n",
       "      <th>open</th>\n",
       "      <th>high</th>\n",
       "      <th>low</th>\n",
       "      <th>close</th>\n",
       "      <th>volume</th>\n",
       "      <th>ema</th>\n",
       "      <th>rsi</th>\n",
       "      <th>zscore</th>\n",
       "    </tr>\n",
       "  </thead>\n",
       "  <tbody>\n",
       "    <tr>\n",
       "      <th>99965</th>\n",
       "      <td>2025-02-07 15:25:00</td>\n",
       "      <td>23569.45</td>\n",
       "      <td>23570.60</td>\n",
       "      <td>23567.00</td>\n",
       "      <td>23568.10</td>\n",
       "      <td>0</td>\n",
       "      <td>23565.947842</td>\n",
       "      <td>60.730654</td>\n",
       "      <td>-0.686194</td>\n",
       "    </tr>\n",
       "    <tr>\n",
       "      <th>99966</th>\n",
       "      <td>2025-02-07 15:26:00</td>\n",
       "      <td>23568.10</td>\n",
       "      <td>23570.25</td>\n",
       "      <td>23565.30</td>\n",
       "      <td>23567.40</td>\n",
       "      <td>0</td>\n",
       "      <td>23566.129362</td>\n",
       "      <td>60.228034</td>\n",
       "      <td>-0.795776</td>\n",
       "    </tr>\n",
       "    <tr>\n",
       "      <th>99967</th>\n",
       "      <td>2025-02-07 15:27:00</td>\n",
       "      <td>23569.00</td>\n",
       "      <td>23578.35</td>\n",
       "      <td>23565.40</td>\n",
       "      <td>23576.50</td>\n",
       "      <td>0</td>\n",
       "      <td>23567.425691</td>\n",
       "      <td>64.338901</td>\n",
       "      <td>0.356366</td>\n",
       "    </tr>\n",
       "    <tr>\n",
       "      <th>99968</th>\n",
       "      <td>2025-02-07 15:28:00</td>\n",
       "      <td>23577.05</td>\n",
       "      <td>23578.60</td>\n",
       "      <td>23567.45</td>\n",
       "      <td>23568.10</td>\n",
       "      <td>0</td>\n",
       "      <td>23567.509980</td>\n",
       "      <td>58.371835</td>\n",
       "      <td>-0.729732</td>\n",
       "    </tr>\n",
       "    <tr>\n",
       "      <th>99969</th>\n",
       "      <td>2025-02-07 15:29:00</td>\n",
       "      <td>23568.10</td>\n",
       "      <td>23571.35</td>\n",
       "      <td>23557.35</td>\n",
       "      <td>23563.15</td>\n",
       "      <td>0</td>\n",
       "      <td>23566.964982</td>\n",
       "      <td>55.142854</td>\n",
       "      <td>-1.212804</td>\n",
       "    </tr>\n",
       "  </tbody>\n",
       "</table>\n",
       "</div>"
      ],
      "text/plain": [
       "                      date      open      high       low     close  volume  \\\n",
       "99965  2025-02-07 15:25:00  23569.45  23570.60  23567.00  23568.10       0   \n",
       "99966  2025-02-07 15:26:00  23568.10  23570.25  23565.30  23567.40       0   \n",
       "99967  2025-02-07 15:27:00  23569.00  23578.35  23565.40  23576.50       0   \n",
       "99968  2025-02-07 15:28:00  23577.05  23578.60  23567.45  23568.10       0   \n",
       "99969  2025-02-07 15:29:00  23568.10  23571.35  23557.35  23563.15       0   \n",
       "\n",
       "                ema        rsi    zscore  \n",
       "99965  23565.947842  60.730654 -0.686194  \n",
       "99966  23566.129362  60.228034 -0.795776  \n",
       "99967  23567.425691  64.338901  0.356366  \n",
       "99968  23567.509980  58.371835 -0.729732  \n",
       "99969  23566.964982  55.142854 -1.212804  "
      ]
     },
     "execution_count": 8,
     "metadata": {},
     "output_type": "execute_result"
    }
   ],
   "source": [
    "df_nifty50.tail()"
   ]
  },
  {
   "cell_type": "code",
   "execution_count": 9,
   "id": "f5c4cae9-de6a-4b22-a20e-ec6bc965e5c0",
   "metadata": {},
   "outputs": [],
   "source": [
    "WINDOW_SIZE = 10\n",
    "PATTERN_LABELS = ['head_and_shoulders', 'double_bottom', 'ascending_triangle', 'none']"
   ]
  },
  {
   "cell_type": "code",
   "execution_count": 10,
   "id": "0b82f7b6-5fb3-47a9-83d2-fafe76ccf378",
   "metadata": {
    "scrolled": true
   },
   "outputs": [],
   "source": [
    "df_nifty_labelled = pd.DataFrame.from_dict(label_patterns(df_nifty50))"
   ]
  },
  {
   "cell_type": "code",
   "execution_count": 11,
   "id": "65fd294f-ac6b-4efd-bca1-69a7623f8db2",
   "metadata": {},
   "outputs": [
    {
     "data": {
      "text/plain": [
       "label\n",
       "double_bottom         58452\n",
       "none                  34186\n",
       "ascending_triangle     5922\n",
       "head_and_shoulders     1400\n",
       "Name: count, dtype: int64"
      ]
     },
     "execution_count": 11,
     "metadata": {},
     "output_type": "execute_result"
    }
   ],
   "source": [
    "df_nifty_labelled.label.value_counts()"
   ]
  },
  {
   "cell_type": "code",
   "execution_count": 12,
   "id": "fe8aa3e9-7bbe-4393-a7c3-3581711fba32",
   "metadata": {},
   "outputs": [
    {
     "data": {
      "text/plain": [
       "tensor([[2.1755e+04, 2.1745e+04, 6.7741e+01, 1.7743e+00],\n",
       "        [2.1754e+04, 2.1746e+04, 6.5720e+01, 1.3724e+00],\n",
       "        [2.1755e+04, 2.1747e+04, 6.7037e+01, 1.3735e+00],\n",
       "        [2.1756e+04, 2.1748e+04, 6.7571e+01, 1.2582e+00],\n",
       "        [2.1767e+04, 2.1750e+04, 7.6561e+01, 2.3786e+00],\n",
       "        [2.1780e+04, 2.1754e+04, 8.2836e+01, 2.7220e+00],\n",
       "        [2.1782e+04, 2.1758e+04, 8.3464e+01, 2.1770e+00],\n",
       "        [2.1790e+04, 2.1762e+04, 8.6033e+01, 2.1732e+00],\n",
       "        [2.1802e+04, 2.1767e+04, 8.8595e+01, 2.2010e+00],\n",
       "        [2.1802e+04, 2.1771e+04, 8.8595e+01, 1.8089e+00]])"
      ]
     },
     "execution_count": 12,
     "metadata": {},
     "output_type": "execute_result"
    }
   ],
   "source": [
    "\n",
    "window_tensors, target = create_windows(df_nifty_labelled)\n",
    "window_tensors[0]\n"
   ]
  },
  {
   "cell_type": "code",
   "execution_count": 13,
   "id": "e59f4317-18c3-4935-8e03-989653e47f0b",
   "metadata": {},
   "outputs": [
    {
     "data": {
      "text/plain": [
       "torch.Size([99960, 10, 4])"
      ]
     },
     "execution_count": 13,
     "metadata": {},
     "output_type": "execute_result"
    }
   ],
   "source": [
    "window_tensors.shape"
   ]
  },
  {
   "cell_type": "code",
   "execution_count": 14,
   "id": "0bc049f3-4199-4077-b1d0-6610909ca7ce",
   "metadata": {},
   "outputs": [
    {
     "name": "stderr",
     "output_type": "stream",
     "text": [
      "/home/yash/Gatech/deeplearning/omscs-capstone/trainers/CNN1DTrainer.py:15: UserWarning: To copy construct from a tensor, it is recommended to use sourceTensor.clone().detach() or sourceTensor.clone().detach().requires_grad_(True), rather than torch.tensor(sourceTensor).\n",
      "  X = torch.tensor(X, dtype=torch.float32)  # e.g., (N, 15, 4) or (N, 4, 15)\n",
      "/home/yash/Gatech/deeplearning/omscs-capstone/trainers/CNN1DTrainer.py:30: UserWarning: To copy construct from a tensor, it is recommended to use sourceTensor.clone().detach() or sourceTensor.clone().detach().requires_grad_(True), rather than torch.tensor(sourceTensor).\n",
      "  self.y = torch.tensor(y, dtype=torch.long)\n"
     ]
    },
    {
     "name": "stdout",
     "output_type": "stream",
     "text": [
      "torch.Size([79968, 4, 10])\n",
      "torch.Size([19992, 4, 10])\n",
      "Validation Loss: 0.6967 | Accuracy: 0.8066\n",
      "Epoch [1/10], Loss: 0.7922, Accuracy: 0.7510\n",
      "Validation Loss: 0.6383 | Accuracy: 0.8350\n",
      "Epoch [2/10], Loss: 0.6442, Accuracy: 0.8391\n",
      "Validation Loss: 0.5503 | Accuracy: 0.8917\n",
      "Epoch [3/10], Loss: 0.5729, Accuracy: 0.8823\n",
      "Validation Loss: 0.5233 | Accuracy: 0.9115\n",
      "Epoch [4/10], Loss: 0.5313, Accuracy: 0.9060\n",
      "Validation Loss: 0.5006 | Accuracy: 0.9219\n",
      "Epoch [5/10], Loss: 0.5035, Accuracy: 0.9215\n",
      "Validation Loss: 0.4780 | Accuracy: 0.9359\n",
      "Epoch [6/10], Loss: 0.4842, Accuracy: 0.9329\n",
      "Validation Loss: 0.4661 | Accuracy: 0.9414\n",
      "Epoch [7/10], Loss: 0.4680, Accuracy: 0.9425\n",
      "Validation Loss: 0.4639 | Accuracy: 0.9449\n",
      "Epoch [8/10], Loss: 0.4570, Accuracy: 0.9484\n",
      "Validation Loss: 0.4662 | Accuracy: 0.9430\n",
      "Epoch [9/10], Loss: 0.4483, Accuracy: 0.9535\n",
      "Validation Loss: 0.4581 | Accuracy: 0.9496\n",
      "Epoch [10/10], Loss: 0.4409, Accuracy: 0.9579\n",
      "Validation Loss: 0.4581 | Accuracy: 0.9496\n",
      "✅ Model saved to: models_results/checkpoints/CNN1D_MULTICHANNEL.pt\n",
      "Predicted classes: [3 3 1 3 1]\n"
     ]
    },
    {
     "name": "stderr",
     "output_type": "stream",
     "text": [
      "/home/yash/Gatech/deeplearning/omscs-capstone/trainers/CNN1DTrainer.py:127: UserWarning: To copy construct from a tensor, it is recommended to use sourceTensor.clone().detach() or sourceTensor.clone().detach().requires_grad_(True), rather than torch.tensor(sourceTensor).\n",
      "  X_tensor = torch.tensor(X_input, dtype=torch.float32)\n"
     ]
    },
    {
     "data": {
      "image/png": "[encoded data removed]",
      "text/plain": [
       "<Figure size 800x500 with 1 Axes>"
      ]
     },
     "metadata": {},
     "output_type": "display_data"
    }
   ],
   "source": [
    "# window_tensors_CNN2D = window_tensors.transpose(0, 2, 1).reshape(-1, 4, 5, 3)\n",
    "\n",
    "X_train, X_val, y_train, y_val = train_test_split(window_tensors, target, test_size=0.2)\n",
    "\n",
    "model = CNN1D_MultiChannel(num_classes=4)\n",
    "\n",
    "trainer = CNN1DTrainer(model, X_train, y_train, X_val, y_val, batch_size=32, lr=1e-3)\n",
    "\n",
    "trainer.train(num_epochs=10)\n",
    "trainer.evaluate()\n",
    "\n",
    "trainer.save_model(\"models_results/checkpoints/CNN1D_MULTICHANNEL.pt\")\n",
    "\n",
    "predictions = trainer.predict(X_val[:5])\n",
    "print(\"Predicted classes:\", predictions)\n",
    "\n",
    "trainer.plot_losses()\n"
   ]
  },
  {
   "cell_type": "code",
   "execution_count": 15,
   "id": "d5a0fbd7-f602-4588-a2c3-03bfedca8704",
   "metadata": {},
   "outputs": [
    {
     "name": "stdout",
     "output_type": "stream",
     "text": [
      "Predicted classes: [3, 3]\n"
     ]
    }
   ],
   "source": [
    "predictions = trainer.predict(X_val[:2])\n",
    "print(\"Predicted classes:\", list(predictions))"
   ]
  },
  {
   "cell_type": "code",
   "execution_count": 16,
   "id": "6bb94a7c-63fe-4746-84cf-7332bf865573",
   "metadata": {},
   "outputs": [
    {
     "name": "stderr",
     "output_type": "stream",
     "text": [
      "/home/yash/Gatech/deeplearning/omscs-capstone/trainers/CNN2DTrainer.py:13: UserWarning: To copy construct from a tensor, it is recommended to use sourceTensor.clone().detach() or sourceTensor.clone().detach().requires_grad_(True), rather than torch.tensor(sourceTensor).\n",
      "  X = torch.tensor(X, dtype=torch.float32)\n",
      "/home/yash/Gatech/deeplearning/omscs-capstone/trainers/CNN2DTrainer.py:14: UserWarning: To copy construct from a tensor, it is recommended to use sourceTensor.clone().detach() or sourceTensor.clone().detach().requires_grad_(True), rather than torch.tensor(sourceTensor).\n",
      "  y = torch.tensor(y, dtype=torch.long)\n"
     ]
    },
    {
     "name": "stdout",
     "output_type": "stream",
     "text": [
      "Validation Loss: 0.8097 | Accuracy: 0.7522\n",
      "Epoch [1/10] | Train Loss: 0.8989 | Val Loss: 0.8097 | Train Acc: 0.6901\n",
      "Validation Loss: 0.6917 | Accuracy: 0.8145\n",
      "Epoch [2/10] | Train Loss: 0.7495 | Val Loss: 0.6917 | Train Acc: 0.7822\n",
      "Validation Loss: 0.6367 | Accuracy: 0.8484\n",
      "Epoch [3/10] | Train Loss: 0.6696 | Val Loss: 0.6367 | Train Acc: 0.8263\n",
      "Validation Loss: 0.6100 | Accuracy: 0.8610\n",
      "Epoch [4/10] | Train Loss: 0.6172 | Val Loss: 0.6100 | Train Acc: 0.8569\n",
      "Validation Loss: 0.5661 | Accuracy: 0.8860\n",
      "Epoch [5/10] | Train Loss: 0.5822 | Val Loss: 0.5661 | Train Acc: 0.8759\n",
      "Validation Loss: 0.5612 | Accuracy: 0.8910\n",
      "Epoch [6/10] | Train Loss: 0.5575 | Val Loss: 0.5612 | Train Acc: 0.8917\n",
      "Validation Loss: 0.5443 | Accuracy: 0.8992\n",
      "Epoch [7/10] | Train Loss: 0.5402 | Val Loss: 0.5443 | Train Acc: 0.9015\n",
      "Validation Loss: 0.5272 | Accuracy: 0.9058\n",
      "Epoch [8/10] | Train Loss: 0.5278 | Val Loss: 0.5272 | Train Acc: 0.9083\n",
      "Validation Loss: 0.5206 | Accuracy: 0.9095\n",
      "Epoch [9/10] | Train Loss: 0.5185 | Val Loss: 0.5206 | Train Acc: 0.9136\n",
      "Validation Loss: 0.5235 | Accuracy: 0.9098\n",
      "Epoch [10/10] | Train Loss: 0.5103 | Val Loss: 0.5235 | Train Acc: 0.9185\n",
      "Validation Loss: 0.5235 | Accuracy: 0.9098\n",
      "✅ Model saved to: models_results/checkpoints/CNN2D_MULTICHANNEL.pt\n"
     ]
    },
    {
     "data": {
      "image/png": "[encoded data removed]",
      "text/plain": [
       "<Figure size 640x480 with 1 Axes>"
      ]
     },
     "metadata": {},
     "output_type": "display_data"
    }
   ],
   "source": [
    "model = CNN2D_MultiChannel(in_channels=4, num_classes=4)\n",
    "trainer = CNN2DTrainer(model, X_train, y_train, X_val, y_val, batch_size=32, lr=1e-3)\n",
    "trainer.train(num_epochs=10)\n",
    "trainer.evaluate()\n",
    "trainer.save_model(\"models_results/checkpoints/CNN2D_MULTICHANNEL.pt\")\n",
    "trainer.plot_losses()"
   ]
  },
  {
   "cell_type": "code",
   "execution_count": 18,
   "id": "79ccb389-59cc-446c-a73b-0e85c3c7eca2",
   "metadata": {},
   "outputs": [
    {
     "data": {
      "text/plain": [
       "'double_bottom'"
      ]
     },
     "execution_count": 18,
     "metadata": {},
     "output_type": "execute_result"
    }
   ],
   "source": [
    "\n",
    "classify_window(window_tensors[12], model_type='2d', model_path=\"models_results/checkpoints/CNN2D_MULTICHANNEL.pt\", PATTERN_LABELS=PATTERN_LABELS)"
   ]
  },
  {
   "cell_type": "code",
   "execution_count": 69,
   "id": "9f0d7506-e05a-4342-bcaa-2e1e3f10688a",
   "metadata": {},
   "outputs": [],
   "source": [
    "class CNN1D_SingleChannel(nn.Module):\n",
    "    def __init__(self, num_classes=4):\n",
    "        super(CNN1D_SingleChannel, self).__init__()\n",
    "        self.conv1 = nn.Conv1d(in_channels=1, out_channels=64, kernel_size=3)\n",
    "        self.pool1 = nn.MaxPool1d(kernel_size=2)\n",
    "\n",
    "        self.conv2 = nn.Conv1d(64, 128, kernel_size=3)\n",
    "        self.pool2 = nn.MaxPool1d(kernel_size=2)\n",
    "\n",
    "        # Compute the flattened size from window size = 15\n",
    "        # Conv1: 15 → 13, Pool1: 13 → 6\n",
    "        # Conv2: 6 → 4, Pool2: 4 → 2\n",
    "        self.flattened_size = 128 \n",
    "\n",
    "        self.fc1 = nn.Linear(self.flattened_size, 64)\n",
    "        self.dropout = nn.Dropout(0.3)\n",
    "        self.fc2 = nn.Linear(64, num_classes)\n",
    "\n",
    "    def forward(self, x):\n",
    "        # Expecting input shape (batch, 1, 15)\n",
    "        x = self.pool1(F.relu(self.conv1(x)))  # → (B, 64, 6)\n",
    "        x = self.pool2(F.relu(self.conv2(x)))  # → (B, 128, 2)\n",
    "        x = x.view(x.size(0), -1)              # → (B, 256)\n",
    "        x = F.relu(self.fc1(x))\n",
    "        x = self.dropout(x)\n",
    "        return self.fc2(x)"
   ]
  },
  {
   "cell_type": "code",
   "execution_count": 75,
   "id": "e968b536-3f07-4097-b493-5a363886bf9b",
   "metadata": {},
   "outputs": [],
   "source": [
    "class TimeSeries1DDataset(Dataset):\n",
    "    def __init__(self, X, y, normalize=True):\n",
    "        X = torch.tensor(X, dtype=torch.float32)\n",
    "        y = torch.tensor(y, dtype=torch.long)\n",
    "\n",
    "        # Ensure correct shape: (batch_size, 1, 15)\n",
    "        if X.ndim == 2:\n",
    "            X = X.unsqueeze(1)  # from (N, 15) → (N, 1, 15)\n",
    "        elif X.ndim == 3 and X.shape[1] != 1:\n",
    "            raise ValueError(f\"Expected input with 1 channel. Got shape: {X.shape}\")\n",
    "\n",
    "        # Normalize per-window\n",
    "        if normalize:\n",
    "            mean = X.mean(dim=2, keepdim=True)\n",
    "            std = X.std(dim=2, keepdim=True) + 1e-8\n",
    "            X = (X - mean) / std\n",
    "\n",
    "        self.X = X\n",
    "        self.y = y\n",
    "\n",
    "    def __len__(self):\n",
    "        return len(self.X)\n",
    "\n",
    "    def __getitem__(self, idx):\n",
    "        return self.X[idx], self.y[idx]\n",
    "\n",
    "\n",
    "class CNN1DTrainer:\n",
    "    def __init__(self, model, X_train, y_train, X_val, y_val,\n",
    "                 num_classes=4, batch_size=32, lr=1e-3, device=None):\n",
    "        self.device = device or ('cuda' if torch.cuda.is_available() else 'cpu')\n",
    "        self.model = model.to(self.device)\n",
    "        self.criterion = nn.CrossEntropyLoss()\n",
    "        self.optimizer = torch.optim.Adam(self.model.parameters(), lr=lr)\n",
    "        self.train_losses = []\n",
    "        self.val_losses = []\n",
    "        self.train_loader = DataLoader(\n",
    "            TimeSeries1DDataset(X_train, y_train, normalize=True),\n",
    "            batch_size=batch_size, shuffle=True\n",
    "        )\n",
    "        \n",
    "        self.val_loader = DataLoader(\n",
    "            TimeSeries1DDataset(X_val, y_val, normalize=True),\n",
    "            batch_size=batch_size, shuffle=False\n",
    "        )\n",
    "\n",
    "    def train(self, num_epochs=10):\n",
    "        self.model.train()\n",
    "        for epoch in range(num_epochs):\n",
    "            total_loss = 0\n",
    "            total_samples = 0\n",
    "            all_preds = []\n",
    "            all_targets = []\n",
    "\n",
    "            for X_batch, y_batch in self.train_loader:\n",
    "                X_batch = X_batch.to(self.device)\n",
    "                y_batch = y_batch.to(self.device)\n",
    "\n",
    "                outputs = self.model(X_batch)\n",
    "                loss = self.criterion(outputs, y_batch)\n",
    "\n",
    "                self.optimizer.zero_grad()\n",
    "                loss.backward()\n",
    "                self.optimizer.step()\n",
    "\n",
    "                total_loss += loss.item() * X_batch.size(0)\n",
    "                total_samples += X_batch.size(0)\n",
    "\n",
    "                preds = torch.argmax(outputs, dim=1)\n",
    "                all_preds.append(preds.cpu())\n",
    "                all_targets.append(y_batch.cpu())\n",
    "            \n",
    "            avg_loss = total_loss / total_samples\n",
    "            train_acc = accuracy_score(torch.cat(all_targets), torch.cat(all_preds))\n",
    "            \n",
    "            val_loss = self.evaluate(return_loss=True)\n",
    "            self.train_losses.append(avg_loss)\n",
    "            self.val_losses.append(val_loss)\n",
    "            \n",
    "            print(f\"Epoch [{epoch + 1}/{num_epochs}], Loss: {avg_loss:.4f}, Accuracy: {train_acc:.4f}\")\n",
    "\n",
    "    def evaluate(self, return_loss=False):\n",
    "        self.model.eval()\n",
    "        all_preds = []\n",
    "        all_targets = []\n",
    "        total_loss = 0.0\n",
    "        total_samples = 0\n",
    "\n",
    "        with torch.no_grad():\n",
    "            for X_batch, y_batch in self.val_loader:\n",
    "                X_batch = X_batch.to(self.device)\n",
    "                y_batch = y_batch.to(self.device)\n",
    "\n",
    "                outputs = self.model(X_batch)\n",
    "                loss = self.criterion(outputs, y_batch)\n",
    "\n",
    "                total_loss += loss.item() * X_batch.size(0)\n",
    "                total_samples += X_batch.size(0)\n",
    "                \n",
    "                preds = torch.argmax(outputs, dim=1)\n",
    "                all_preds.append(preds.cpu())\n",
    "                all_targets.append(y_batch.cpu())\n",
    "\n",
    "        avg_val_loss = total_loss / total_samples\n",
    "        val_acc = accuracy_score(torch.cat(all_targets), torch.cat(all_preds))\n",
    "        print(f\"Validation Loss: {avg_val_loss:.4f} | Accuracy: {val_acc:.4f}\")\n",
    "        \n",
    "        if return_loss:\n",
    "            return avg_val_loss\n",
    "        return val_acc\n",
    "\n",
    "    def predict(self, X_input):\n",
    "        \"\"\"\n",
    "        Predict class labels for new input data.\n",
    "        X_input shape: (N, 1, 15)  # batch, channels, window_size\n",
    "        \"\"\"\n",
    "        self.model.eval()\n",
    "        X_tensor = torch.tensor(X_input, dtype=torch.float32).to(self.device)\n",
    "\n",
    "        with torch.no_grad():\n",
    "            outputs = self.model(X_tensor)\n",
    "            preds = torch.argmax(outputs, dim=1)\n",
    "        return preds.cpu().numpy()"
   ]
  },
  {
   "cell_type": "code",
   "execution_count": 63,
   "id": "ddb9f307-21f8-4a8f-95c1-df97770f2fc1",
   "metadata": {},
   "outputs": [],
   "source": [
    "def detect_head_and_shoulders(close_prices, tolerance=0.03):\n",
    "    peaks, _ = find_peaks(close_prices)\n",
    "    if len(peaks) < 3:\n",
    "        return False\n",
    "\n",
    "    # Look for three peaks (left, head, right)\n",
    "    for i in range(len(peaks) - 2):\n",
    "        left, head, right = peaks[i], peaks[i + 1], peaks[i + 2]\n",
    "        if head - left > 2 and right - head > 2:  # spacing\n",
    "            l, h, r = close_prices[left], close_prices[head], close_prices[right]\n",
    "            if h > l and h > r:\n",
    "                if abs(l - r) / h < tolerance:\n",
    "                    return True\n",
    "    return False\n",
    "\n",
    "\n",
    "def detect_double_bottom(close_prices, PEAK_PROMINENCE=0.01):\n",
    "    troughs, _ = find_peaks(-close_prices)\n",
    "    if len(troughs) < 2:\n",
    "        return False\n",
    "\n",
    "    for i in range(len(troughs) - 1):\n",
    "        t1, t2 = troughs[i], troughs[i + 1]\n",
    "        if abs(t1 - t2) < 3:\n",
    "            continue  # too close\n",
    "\n",
    "        v1, v2 = close_prices[t1], close_prices[t2]\n",
    "        mid = close_prices[t1:t2].max()\n",
    "\n",
    "        if abs(v1 - v2) / mid < PEAK_PROMINENCE and mid > v1 and mid > v2:\n",
    "            return True\n",
    "    return False\n",
    "\n",
    "\n",
    "def detect_ascending_triangle(close_prices, PEAK_PROMINENCE=0.01):\n",
    "    peaks, _ = find_peaks(close_prices)\n",
    "    troughs, _ = find_peaks(-close_prices)\n",
    "    if len(peaks) < 2 or len(troughs) < 2:\n",
    "        return False\n",
    "\n",
    "    # Check if resistance line is flat and lows are rising\n",
    "    top_diff = max(close_prices[peaks]) - min(close_prices[peaks])\n",
    "    low_diffs = np.diff(close_prices[troughs])\n",
    "    if top_diff / close_prices[peaks[-1]] < PEAK_PROMINENCE and np.all(low_diffs > 0):\n",
    "        return True\n",
    "    return False\n",
    "\n",
    "def label_patterns_singleattr(df, window_size=10, target_attribute='close'):\n",
    "    labels = []\n",
    "    windows = []\n",
    "    for i in range(len(df) - window_size):\n",
    "\n",
    "        window = df.iloc[i:i + window_size][target_attribute]\n",
    "        values = window.values\n",
    "\n",
    "        if detect_head_and_shoulders(values):\n",
    "            label = 'head_and_shoulders'\n",
    "        elif detect_double_bottom(values):\n",
    "            label = 'double_bottom'\n",
    "        elif detect_ascending_triangle(values):\n",
    "            label = 'ascending_triangle'\n",
    "        else:\n",
    "            label = 'none'\n",
    "        windows.append({\"window\": window, \"label\": label})\n",
    "    return windows"
   ]
  },
  {
   "cell_type": "code",
   "execution_count": 64,
   "id": "a8fcc06e-5eaa-480a-83ff-a329cbde834e",
   "metadata": {},
   "outputs": [
    {
     "data": {
      "text/plain": [
       "array([21754.85, 21753.85, 21755.1 , 21755.6 , 21766.65, 21780.25,\n",
       "       21782.05, 21790.5 , 21801.9 , 21801.9 , 21814.05])"
      ]
     },
     "execution_count": 64,
     "metadata": {},
     "output_type": "execute_result"
    }
   ],
   "source": [
    "df_nifty50.iloc[0:1 + 10]['close'].values"
   ]
  },
  {
   "cell_type": "code",
   "execution_count": 65,
   "id": "fe405c80-bfd6-43b0-8e71-1f1695a57282",
   "metadata": {},
   "outputs": [],
   "source": [
    "df_nifty_labelled_single_attr = pd.DataFrame.from_dict(label_patterns_singleattr(df_nifty50))"
   ]
  },
  {
   "cell_type": "code",
   "execution_count": 66,
   "id": "21fcf420-ccbe-48b7-93b9-6fe7ebb8580b",
   "metadata": {},
   "outputs": [
    {
     "data": {
      "text/html": [
       "<div>\n",
       "<style scoped>\n",
       "    .dataframe tbody tr th:only-of-type {\n",
       "        vertical-align: middle;\n",
       "    }\n",
       "\n",
       "    .dataframe tbody tr th {\n",
       "        vertical-align: top;\n",
       "    }\n",
       "\n",
       "    .dataframe thead th {\n",
       "        text-align: right;\n",
       "    }\n",
       "</style>\n",
       "<table border=\"1\" class=\"dataframe\">\n",
       "  <thead>\n",
       "    <tr style=\"text-align: right;\">\n",
       "      <th></th>\n",
       "      <th>window</th>\n",
       "      <th>label</th>\n",
       "    </tr>\n",
       "  </thead>\n",
       "  <tbody>\n",
       "    <tr>\n",
       "      <th>0</th>\n",
       "      <td>0    21754.85\n",
       "1    21753.85\n",
       "2    21755.10\n",
       "3   ...</td>\n",
       "      <td>none</td>\n",
       "    </tr>\n",
       "    <tr>\n",
       "      <th>1</th>\n",
       "      <td>1     21753.85\n",
       "2     21755.10\n",
       "3     21755.60\n",
       "4...</td>\n",
       "      <td>none</td>\n",
       "    </tr>\n",
       "    <tr>\n",
       "      <th>2</th>\n",
       "      <td>2     21755.10\n",
       "3     21755.60\n",
       "4     21766.65\n",
       "5...</td>\n",
       "      <td>none</td>\n",
       "    </tr>\n",
       "    <tr>\n",
       "      <th>3</th>\n",
       "      <td>3     21755.60\n",
       "4     21766.65\n",
       "5     21780.25\n",
       "6...</td>\n",
       "      <td>none</td>\n",
       "    </tr>\n",
       "    <tr>\n",
       "      <th>4</th>\n",
       "      <td>4     21766.65\n",
       "5     21780.25\n",
       "6     21782.05\n",
       "7...</td>\n",
       "      <td>none</td>\n",
       "    </tr>\n",
       "    <tr>\n",
       "      <th>...</th>\n",
       "      <td>...</td>\n",
       "      <td>...</td>\n",
       "    </tr>\n",
       "    <tr>\n",
       "      <th>99955</th>\n",
       "      <td>99955    23586.65\n",
       "99956    23589.80\n",
       "99957    2...</td>\n",
       "      <td>ascending_triangle</td>\n",
       "    </tr>\n",
       "    <tr>\n",
       "      <th>99956</th>\n",
       "      <td>99956    23589.80\n",
       "99957    23582.60\n",
       "99958    2...</td>\n",
       "      <td>ascending_triangle</td>\n",
       "    </tr>\n",
       "    <tr>\n",
       "      <th>99957</th>\n",
       "      <td>99957    23582.60\n",
       "99958    23562.85\n",
       "99959    2...</td>\n",
       "      <td>ascending_triangle</td>\n",
       "    </tr>\n",
       "    <tr>\n",
       "      <th>99958</th>\n",
       "      <td>99958    23562.85\n",
       "99959    23575.60\n",
       "99960    2...</td>\n",
       "      <td>double_bottom</td>\n",
       "    </tr>\n",
       "    <tr>\n",
       "      <th>99959</th>\n",
       "      <td>99959    23575.60\n",
       "99960    23568.70\n",
       "99961    2...</td>\n",
       "      <td>double_bottom</td>\n",
       "    </tr>\n",
       "  </tbody>\n",
       "</table>\n",
       "<p>99960 rows × 2 columns</p>\n",
       "</div>"
      ],
      "text/plain": [
       "                                                  window               label\n",
       "0      0    21754.85\n",
       "1    21753.85\n",
       "2    21755.10\n",
       "3   ...                none\n",
       "1      1     21753.85\n",
       "2     21755.10\n",
       "3     21755.60\n",
       "4...                none\n",
       "2      2     21755.10\n",
       "3     21755.60\n",
       "4     21766.65\n",
       "5...                none\n",
       "3      3     21755.60\n",
       "4     21766.65\n",
       "5     21780.25\n",
       "6...                none\n",
       "4      4     21766.65\n",
       "5     21780.25\n",
       "6     21782.05\n",
       "7...                none\n",
       "...                                                  ...                 ...\n",
       "99955  99955    23586.65\n",
       "99956    23589.80\n",
       "99957    2...  ascending_triangle\n",
       "99956  99956    23589.80\n",
       "99957    23582.60\n",
       "99958    2...  ascending_triangle\n",
       "99957  99957    23582.60\n",
       "99958    23562.85\n",
       "99959    2...  ascending_triangle\n",
       "99958  99958    23562.85\n",
       "99959    23575.60\n",
       "99960    2...       double_bottom\n",
       "99959  99959    23575.60\n",
       "99960    23568.70\n",
       "99961    2...       double_bottom\n",
       "\n",
       "[99960 rows x 2 columns]"
      ]
     },
     "execution_count": 66,
     "metadata": {},
     "output_type": "execute_result"
    }
   ],
   "source": [
    "df_nifty_labelled_single_attr"
   ]
  },
  {
   "cell_type": "code",
   "execution_count": 67,
   "id": "9c9e6ea3-c442-41ac-82bc-255517b9e189",
   "metadata": {},
   "outputs": [
    {
     "data": {
      "text/plain": [
       "tensor([[21754.8496],\n",
       "        [21753.8496],\n",
       "        [21755.0996],\n",
       "        [21755.5996],\n",
       "        [21766.6504],\n",
       "        [21780.2500],\n",
       "        [21782.0508],\n",
       "        [21790.5000],\n",
       "        [21801.9004],\n",
       "        [21801.9004]])"
      ]
     },
     "execution_count": 67,
     "metadata": {},
     "output_type": "execute_result"
    }
   ],
   "source": [
    "window_tensors_1d, target_1d = create_windows(df_nifty_labelled, target_cols=['close'])\n",
    "window_tensors_1d[0]\n"
   ]
  },
  {
   "cell_type": "code",
   "execution_count": 76,
   "id": "2f7451d4-0d94-42f9-8d87-db011a8118d2",
   "metadata": {},
   "outputs": [
    {
     "name": "stderr",
     "output_type": "stream",
     "text": [
      "/tmp/ipykernel_7794/2102059033.py:3: UserWarning: To copy construct from a tensor, it is recommended to use sourceTensor.clone().detach() or sourceTensor.clone().detach().requires_grad_(True), rather than torch.tensor(sourceTensor).\n",
      "  X = torch.tensor(X, dtype=torch.float32)\n",
      "/tmp/ipykernel_7794/2102059033.py:4: UserWarning: To copy construct from a tensor, it is recommended to use sourceTensor.clone().detach() or sourceTensor.clone().detach().requires_grad_(True), rather than torch.tensor(sourceTensor).\n",
      "  y = torch.tensor(y, dtype=torch.long)\n"
     ]
    },
    {
     "name": "stdout",
     "output_type": "stream",
     "text": [
      "Validation Loss: 0.4907 | Accuracy: 0.7956\n",
      "Epoch [1/10], Loss: 0.6293, Accuracy: 0.7407\n",
      "Validation Loss: 0.3826 | Accuracy: 0.8458\n",
      "Epoch [2/10], Loss: 0.4304, Accuracy: 0.8250\n",
      "Validation Loss: 0.3029 | Accuracy: 0.8764\n",
      "Epoch [3/10], Loss: 0.3449, Accuracy: 0.8620\n",
      "Validation Loss: 0.2622 | Accuracy: 0.8940\n",
      "Epoch [4/10], Loss: 0.2907, Accuracy: 0.8846\n",
      "Validation Loss: 0.2293 | Accuracy: 0.9066\n",
      "Epoch [5/10], Loss: 0.2498, Accuracy: 0.9012\n",
      "Validation Loss: 0.2115 | Accuracy: 0.9157\n",
      "Epoch [6/10], Loss: 0.2207, Accuracy: 0.9124\n",
      "Validation Loss: 0.1946 | Accuracy: 0.9249\n",
      "Epoch [7/10], Loss: 0.1977, Accuracy: 0.9224\n",
      "Validation Loss: 0.1903 | Accuracy: 0.9270\n",
      "Epoch [8/10], Loss: 0.1782, Accuracy: 0.9299\n",
      "Validation Loss: 0.1863 | Accuracy: 0.9282\n",
      "Epoch [9/10], Loss: 0.1632, Accuracy: 0.9365\n",
      "Validation Loss: 0.2091 | Accuracy: 0.9202\n",
      "Epoch [10/10], Loss: 0.1486, Accuracy: 0.9426\n",
      "Validation Loss: 0.2091 | Accuracy: 0.9202\n",
      "Predicted classes: [3 3 3 3 3]\n"
     ]
    },
    {
     "name": "stderr",
     "output_type": "stream",
     "text": [
      "/tmp/ipykernel_7794/2102059033.py:118: UserWarning: To copy construct from a tensor, it is recommended to use sourceTensor.clone().detach() or sourceTensor.clone().detach().requires_grad_(True), rather than torch.tensor(sourceTensor).\n",
      "  X_tensor = torch.tensor(X_input, dtype=torch.float32).to(self.device)\n"
     ]
    }
   ],
   "source": [
    "\n",
    "X_train1d, X_val1d, y_train1d, y_val1d = train_test_split(window_tensors_1d, target_1d, test_size=0.2, random_state=42)\n",
    "X_train1d = X_train1d.permute(0, 2, 1)\n",
    "X_val1d = X_val1d.permute(0, 2, 1)\n",
    "\n",
    "\n",
    "model = CNN1D_SingleChannel(num_classes=4)\n",
    "\n",
    "trainer = CNN1DTrainer(model, X_train1d, y_train1d, X_val1d, y_val1d, batch_size=32, lr=1e-3)\n",
    "\n",
    "trainer.train(num_epochs=10)\n",
    "trainer.evaluate()\n",
    "\n",
    "predictions = trainer.predict(X_val1d[:])\n",
    "print(\"Predicted classes:\", predictions)"
   ]
  },
  {
   "cell_type": "code",
   "execution_count": 83,
   "id": "9691b673-83f5-4b95-909f-e6420596c353",
   "metadata": {},
   "outputs": [
    {
     "name": "stderr",
     "output_type": "stream",
     "text": [
      "/tmp/ipykernel_7794/2102059033.py:118: UserWarning: To copy construct from a tensor, it is recommended to use sourceTensor.clone().detach() or sourceTensor.clone().detach().requires_grad_(True), rather than torch.tensor(sourceTensor).\n",
      "  X_tensor = torch.tensor(X_input, dtype=torch.float32).to(self.device)\n"
     ]
    }
   ],
   "source": [
    "predictions = trainer.predict(X_val1d[0:100])"
   ]
  },
  {
   "cell_type": "code",
   "execution_count": 84,
   "id": "81dad00c-0ae4-4d37-85ea-846ff3e8fac7",
   "metadata": {},
   "outputs": [
    {
     "data": {
      "text/plain": [
       "array([3, 3, 3, 3, 3, 3, 3, 3, 3, 3, 3, 3, 3, 3, 3, 3, 3, 3, 3, 3, 3, 3,\n",
       "       3, 3, 3, 3, 3, 3, 3, 3, 3, 3, 3, 3, 3, 3, 3, 3, 3, 3, 3, 3, 3, 3,\n",
       "       3, 3, 3, 3, 3, 3, 3, 3, 3, 3, 3, 3, 3, 3, 3, 3, 3, 3, 3, 3, 3, 3,\n",
       "       3, 3, 3, 3, 3, 3, 3, 3, 3, 3, 3, 3, 3, 3, 3, 3, 3, 3, 3, 3, 3, 3,\n",
       "       3, 3, 3, 3, 3, 3, 3, 3, 3, 3, 3, 3])"
      ]
     },
     "execution_count": 84,
     "metadata": {},
     "output_type": "execute_result"
    }
   ],
   "source": [
    "predictions"
   ]
  },
  {
   "cell_type": "code",
   "execution_count": null,
   "id": "87d01a17-31ea-4f98-8c45-7a0fbf07b947",
   "metadata": {},
   "outputs": [],
   "source": []
  }
 ],
 "metadata": {
  "kernelspec": {
   "display_name": "Python 3 (ipykernel)",
   "language": "python",
   "name": "python3"
  },
  "language_info": {
   "codemirror_mode": {
    "name": "ipython",
    "version": 3
   },
   "file_extension": ".py",
   "mimetype": "text/x-python",
   "name": "python",
   "nbconvert_exporter": "python",
   "pygments_lexer": "ipython3",
   "version": "3.12.9"
  }
 },
 "nbformat": 4,
 "nbformat_minor": 5
}
